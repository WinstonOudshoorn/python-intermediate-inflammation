{
 "cells": [
  {
   "cell_type": "code",
   "execution_count": 2,
   "metadata": {},
   "outputs": [],
   "source": [
    "import numpy as np\n",
    "from inflammation.models import daily_mean, daily_max, daily_min"
   ]
  },
  {
   "cell_type": "code",
   "execution_count": 4,
   "metadata": {},
   "outputs": [
    {
     "name": "stdout",
     "output_type": "stream",
     "text": [
      "[[0. 0. 1. ... 3. 0. 0.]\n",
      " [0. 1. 2. ... 1. 0. 1.]\n",
      " [0. 1. 1. ... 2. 1. 1.]\n",
      " ...\n",
      " [0. 1. 1. ... 1. 1. 1.]\n",
      " [0. 0. 0. ... 0. 2. 0.]\n",
      " [0. 0. 1. ... 1. 1. 0.]]\n",
      "(60, 40)\n"
     ]
    }
   ],
   "source": [
    "data = np.loadtxt('data/inflammation-01.csv', delimiter=',')\n",
    "print(data)\n",
    "print(data.shape)\n"
   ]
  },
  {
   "cell_type": "code",
   "execution_count": 11,
   "metadata": {},
   "outputs": [
    {
     "name": "stdout",
     "output_type": "stream",
     "text": [
      "[ 0.          0.45        1.11666667  1.75        2.43333333  3.15\n",
      "  3.8         3.88333333  5.23333333  5.51666667  5.95        5.9\n",
      "  8.35        7.73333333  8.36666667  9.5         9.58333333 10.63333333\n",
      " 11.56666667 12.35       13.25       11.96666667 11.03333333 10.16666667\n",
      " 10.          8.66666667  9.15        7.25        7.33333333  6.58333333\n",
      "  6.06666667  5.95        5.11666667  3.6         3.3         3.56666667\n",
      "  2.48333333  1.5         1.13333333  0.56666667]\n",
      "(40,)\n",
      "[ 0.  1.  2.  3.  4.  5.  6.  7.  8.  9. 10. 11. 12. 13. 14. 15. 16. 17.\n",
      " 18. 19. 20. 19. 18. 17. 16. 15. 14. 13. 12. 11. 10.  9.  8.  7.  6.  5.\n",
      "  4.  3.  2.  1.]\n",
      "(40,)\n",
      "[0. 0. 0. 0. 1. 1. 1. 1. 2. 2. 2. 2. 3. 3. 3. 3. 4. 5. 5. 5. 5. 4. 4. 4.\n",
      " 4. 3. 3. 3. 3. 2. 2. 2. 2. 1. 1. 1. 1. 0. 0. 0.]\n",
      "(40,)\n"
     ]
    }
   ],
   "source": [
    "print(daily_mean(data))\n",
    "print(daily_mean(data).shape)\n",
    "print(daily_max(data))\n",
    "print(daily_max(data).shape)\n",
    "print(daily_min(data))\n",
    "print(daily_min(data).shape)"
   ]
  },
  {
   "cell_type": "code",
   "execution_count": 16,
   "metadata": {},
   "outputs": [
    {
     "name": "stdout",
     "output_type": "stream",
     "text": [
      "[3. 4.]\n",
      "[1.5 3.5 5.5]\n",
      "3.5\n"
     ]
    }
   ],
   "source": [
    "array = np.array([[1,2], [3,4], [5,6]])\n",
    "print(np.mean(array, axis=0))\n",
    "print(np.mean(array, axis=1))\n",
    "print(np.mean(array))"
   ]
  },
  {
   "cell_type": "code",
   "execution_count": 21,
   "metadata": {},
   "outputs": [],
   "source": [
    "import numpy.testing as npt\n",
    "npt.assert_array_equal(daily_mean(data), np.mean(data, axis=0))\n",
    "test_input = array\n",
    "test_result = [3, 4]\n",
    "npt.assert_array_equal(daily_mean(test_input), test_result)\n"
   ]
  },
  {
   "cell_type": "code",
   "execution_count": 26,
   "metadata": {},
   "outputs": [],
   "source": [
    "def test_daily_mean_integers():\n",
    "    test_input = array\n",
    "    test_result = [3, 4]\n",
    "    npt.assert_array_equal(daily_mean(test_input), test_result)\n",
    "\n",
    "def test_daily_mean_zeros():\n",
    "    test_input = np.zeros((3, 2))\n",
    "    test_result = np.zeros(2)\n",
    "    npt.assert_array_equal(daily_mean(test_input), test_result)\n",
    "\n",
    "test_daily_mean_integers()\n",
    "test_daily_mean_zeros()"
   ]
  },
  {
   "cell_type": "code",
   "execution_count": null,
   "metadata": {},
   "outputs": [],
   "source": [
    "import pytest\n",
    "\n"
   ]
  }
 ],
 "metadata": {
  "kernelspec": {
   "display_name": "venv",
   "language": "python",
   "name": "python3"
  },
  "language_info": {
   "codemirror_mode": {
    "name": "ipython",
    "version": 3
   },
   "file_extension": ".py",
   "mimetype": "text/x-python",
   "name": "python",
   "nbconvert_exporter": "python",
   "pygments_lexer": "ipython3",
   "version": "3.10.10"
  },
  "orig_nbformat": 4,
  "vscode": {
   "interpreter": {
    "hash": "0bb29b276ee5348ce75da0f40072f7d2dc6f3439b9c5f449454fefa2a3892360"
   }
  }
 },
 "nbformat": 4,
 "nbformat_minor": 2
}
